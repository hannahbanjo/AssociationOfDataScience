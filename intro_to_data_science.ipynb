{
  "nbformat": 4,
  "nbformat_minor": 0,
  "metadata": {
    "colab": {
      "provenance": [],
      "authorship_tag": "ABX9TyOCK7IYhOYc1kQ+4bEEIfn8"
    },
    "kernelspec": {
      "name": "python3",
      "display_name": "Python 3"
    },
    "language_info": {
      "name": "python"
    }
  },
  "cells": [
    {
      "cell_type": "markdown",
      "source": [
        "# 📘 Introduction to Python & Data Science\n",
        "\n",
        "We will learn Python basics step by step and then use it for simple data science tasks!"
      ],
      "metadata": {
        "id": "WiuHbiEonLOW"
      }
    },
    {
      "cell_type": "markdown",
      "source": [
        "## Python\n",
        "**What is Python?**\n",
        "- Python is a programming language — a way to give instructions to a computer.\n",
        "\n",
        "- It’s known for being simple, beginner-friendly, and widely used.\n",
        "\n",
        "- Python code often looks like plain English, which makes it easier to read and learn compared to many other languages.\n",
        "\n",
        "**Why Python is Popular in Data Science**\n",
        "\n",
        "- It has powerful libraries (like pandas, numpy, matplotlib, scikit-learn) that make working with data faster and easier.\n",
        "\n",
        "- It’s used in many industries: technology, finance, healthcare, engineering, research, and more.\n",
        "\n",
        "- It’s great for both beginners and professionals, so skills learned early will continue to be useful."
      ],
      "metadata": {
        "id": "neBSMH_JnaRc"
      }
    },
    {
      "cell_type": "markdown",
      "source": [
        "### 1. Hello, Python!"
      ],
      "metadata": {
        "id": "lQuOIaMZnwST"
      }
    },
    {
      "cell_type": "code",
      "execution_count": 33,
      "metadata": {
        "colab": {
          "base_uri": "https://localhost:8080/"
        },
        "id": "Q8u76E-qnHix",
        "outputId": "d0cc4b4a-14a5-4a2d-be2f-d23dcbf56f98"
      },
      "outputs": [
        {
          "output_type": "stream",
          "name": "stdout",
          "text": [
            "Hello, Data Science!\n"
          ]
        }
      ],
      "source": [
        "# 1. Hello Python!\n",
        "# The print() function tells Python to display something on the screen.\n",
        "print(\"Hello, Data Science!\")"
      ]
    },
    {
      "cell_type": "markdown",
      "source": [
        "### 2. Variables (like boxes that store information)"
      ],
      "metadata": {
        "id": "6XC_ZvlNn0z3"
      }
    },
    {
      "cell_type": "code",
      "source": [
        "# Let's start by writing some information directly (this is called \"hardcoding\")\n",
        "print(\"Name: Taylor Swift\")\n",
        "print(\"Age: 34\")\n",
        "\n",
        "# But what if the information changes?\n",
        "# Every time Taylor has a birthday or we want a different person,\n",
        "# we would have to go back and change the code in multiple places.\n",
        "# That’s a lot of extra work... there must be a better way!"
      ],
      "metadata": {
        "colab": {
          "base_uri": "https://localhost:8080/"
        },
        "id": "31rd0LnloVJA",
        "outputId": "66935f6c-4fbf-4d92-9665-05d51f51a0df"
      },
      "execution_count": 34,
      "outputs": [
        {
          "output_type": "stream",
          "name": "stdout",
          "text": [
            "Name: Taylor Swift\n",
            "Age: 34\n"
          ]
        }
      ]
    },
    {
      "cell_type": "code",
      "source": [
        "# Variables allow us to save values (like text, numbers, or True/False) for later use.\n",
        "name = \"Taylor Swift\" # a string (text)\n",
        "age = 34 # an integer (whole number)\n",
        "is_student = True # a boolean (True/False)\n",
        "\n",
        "# Variables make it easier\n",
        "print(\"Name:\", name)\n",
        "print(\"Age:\", age)\n",
        "print(\"Student?\", is_student)\n",
        "\n",
        "# If you update the variable once (say name = \"Alex\"), every place that uses name automatically updates."
      ],
      "metadata": {
        "colab": {
          "base_uri": "https://localhost:8080/"
        },
        "id": "QBWXDJ9cnrEN",
        "outputId": "8315cfe5-0b65-4ae9-e62c-655c49d687fc"
      },
      "execution_count": 35,
      "outputs": [
        {
          "output_type": "stream",
          "name": "stdout",
          "text": [
            "Name: Taylor Swift\n",
            "Age: 34\n",
            "Student? True\n"
          ]
        }
      ]
    },
    {
      "cell_type": "markdown",
      "source": [
        "### 3. Lists (like collections of items)"
      ],
      "metadata": {
        "id": "3yolfl-spLDI"
      }
    },
    {
      "cell_type": "code",
      "source": [
        "# A list is an ordered collection of values. We use square brackets [ ].\n",
        "fruits = [\"apple\", \"banana\", \"cherry\"]\n",
        "print(\"First fruit:\", fruits[0]) # lists start at position 0\n",
        "print(\"All fruits:\", fruits)"
      ],
      "metadata": {
        "colab": {
          "base_uri": "https://localhost:8080/"
        },
        "id": "-UCutzn5pzzE",
        "outputId": "2b1d6457-2852-4cd9-cae4-0fbce24b65e8"
      },
      "execution_count": 36,
      "outputs": [
        {
          "output_type": "stream",
          "name": "stdout",
          "text": [
            "First fruit: apple\n",
            "All fruits: ['apple', 'banana', 'cherry']\n"
          ]
        }
      ]
    },
    {
      "cell_type": "markdown",
      "source": [
        "### 4. Dictionaries (like labeled boxes)"
      ],
      "metadata": {
        "id": "FZX0_txQpSS9"
      }
    },
    {
      "cell_type": "code",
      "source": [
        "# A dictionary stores data in key-value pairs.\n",
        "student = {\"name\": \"Alex\", \"major\": \"Data Science\", \"year\": 2}\n",
        "print(\"Student Name:\", student[\"name\"]) # access value by its key"
      ],
      "metadata": {
        "colab": {
          "base_uri": "https://localhost:8080/"
        },
        "id": "bM8zJ-gdpX5V",
        "outputId": "b7252616-30bb-434d-aaa6-03bcb6be30c6"
      },
      "execution_count": 37,
      "outputs": [
        {
          "output_type": "stream",
          "name": "stdout",
          "text": [
            "Student Name: Alex\n"
          ]
        }
      ]
    },
    {
      "cell_type": "markdown",
      "source": [
        "## Combining Data Science and Python"
      ],
      "metadata": {
        "id": "AS0tqvEhpg6J"
      }
    },
    {
      "cell_type": "markdown",
      "source": [
        "### 5. Introduction to Pandas (working with datasets)"
      ],
      "metadata": {
        "id": "dgr1lYPoplJ1"
      }
    },
    {
      "cell_type": "code",
      "source": [
        "# Pandas is a Python library for working with data in tables (like Excel).\n",
        "import pandas as pd\n",
        "\n",
        "# Let's create a small dataset about fake students.\n",
        "data = {\n",
        "\"Name\": [\"Alice\", \"Bob\", \"Charlie\", \"Diana\"],\n",
        "\"Age\": [19, 20, 21, 20],\n",
        "\"Favorite Color\": [\"Blue\", \"Red\", \"Purple\", \"Blue\"]\n",
        "}\n",
        "\n",
        "# Turn it into a DataFrame (like a spreadsheet in Python)\n",
        "df = pd.DataFrame(data)\n",
        "print(df)"
      ],
      "metadata": {
        "colab": {
          "base_uri": "https://localhost:8080/"
        },
        "id": "60LqnFSbpk9B",
        "outputId": "ba8e5baf-ba4b-4aad-f419-526ba09636d5"
      },
      "execution_count": 38,
      "outputs": [
        {
          "output_type": "stream",
          "name": "stdout",
          "text": [
            "      Name  Age Favorite Color\n",
            "0    Alice   19           Blue\n",
            "1      Bob   20            Red\n",
            "2  Charlie   21         Purple\n",
            "3    Diana   20           Blue\n"
          ]
        }
      ]
    },
    {
      "cell_type": "markdown",
      "source": [
        "### 6. Simple Data Analysis"
      ],
      "metadata": {
        "id": "tvHOSJBrpkOI"
      }
    },
    {
      "cell_type": "code",
      "source": [
        "# We can calculate things like the average age or the most popular language.\n",
        "print(\"Average Age:\", df[\"Age\"].mean()) # average of the Age column\n",
        "print(\"Most common favorite color:\")\n",
        "print(df[\"Favorite Color\"].mode()[0]) # mode() finds the most frequent value"
      ],
      "metadata": {
        "colab": {
          "base_uri": "https://localhost:8080/"
        },
        "id": "JSCk9E7op7Io",
        "outputId": "15b29605-3414-4b87-8341-79870fb9193c"
      },
      "execution_count": 43,
      "outputs": [
        {
          "output_type": "stream",
          "name": "stdout",
          "text": [
            "Average Age: 20.0\n",
            "Most common favorite color:\n",
            "Blue\n"
          ]
        }
      ]
    },
    {
      "cell_type": "markdown",
      "source": [
        "### 7. Visualization with Matplotlib"
      ],
      "metadata": {
        "id": "TmWPhHhsp6wX"
      }
    },
    {
      "cell_type": "code",
      "source": [
        "# Matplotlib is a library for creating charts and graphs.\n",
        "import matplotlib.pyplot as plt\n",
        "\n",
        "# Count how many students prefer each color\n",
        "lang_counts = df[\"Favorite Color\"].value_counts()\n",
        "\n",
        "# Create a bar chart\n",
        "lang_counts.plot(kind=\"bar\", title=\"Favorite Colors\")\n",
        "plt.xlabel(\"Language\")\n",
        "plt.ylabel(\"Number of Students\")\n",
        "plt.show()"
      ],
      "metadata": {
        "colab": {
          "base_uri": "https://localhost:8080/",
          "height": 502
        },
        "id": "Q8pK1KDEp_Hz",
        "outputId": "ba676c11-0a6e-4171-a468-a35279a51329"
      },
      "execution_count": 40,
      "outputs": [
        {
          "output_type": "display_data",
          "data": {
            "text/plain": [
              "<Figure size 640x480 with 1 Axes>"
            ],
            "image/png": "[encoded data removed]"
          },
          "metadata": {}
        }
      ]
    },
    {
      "cell_type": "markdown",
      "source": [
        "### 8. Mini Project: Your Turn!\n",
        "- Change the dataset above to include your own friends/classmates.\n",
        "- Add their name, age, and favorite color.\n",
        "- Re-run the analysis and chart to see the new results!\n",
        "- This will give you practice editing and analyzing your own data."
      ],
      "metadata": {
        "id": "wfNsvUkup_um"
      }
    }
  ]
}