{
  "nbformat": 4,
  "nbformat_minor": 0,
  "metadata": {
    "colab": {
      "provenance": [],
      "authorship_tag": "ABX9TyMLn+jK7SOUbJn55kX7cL5i",
      "include_colab_link": true
    },
    "kernelspec": {
      "name": "python3",
      "display_name": "Python 3"
    },
    "language_info": {
      "name": "python"
    }
  },
  "cells": [
    {
      "cell_type": "markdown",
      "metadata": {
        "id": "view-in-github",
        "colab_type": "text"
      },
      "source": [
        "<a href=\"https://colab.research.google.com/github/hannahbanjo/AssociationOfDataScience/blob/main/ml_dashboard.ipynb\" target=\"_parent\"><img src=\"https://colab.research.google.com/assets/colab-badge.svg\" alt=\"Open In Colab\"/></a>"
      ]
    },
    {
      "cell_type": "markdown",
      "source": [
        "# Machine Learning Dashboard Workshop"
      ],
      "metadata": {
        "id": "vtqszHL9bZvN"
      }
    },
    {
      "cell_type": "markdown",
      "source": [
        "In this workshop we will create an interactive Streamlit dashboard for exploring coffee sales data, training an ML model, and making live predictions.\n",
        "\n",
        "\n",
        "What the code does\n",
        "\n",
        "\n",
        "*   Loads coffee sales data from GitHub.\n",
        "\n",
        "* Displays dataset overview (first rows, total transactions, unique coffees).\n",
        "\n",
        "* Visualizes feature distributions with interactive plots.\n",
        "\n",
        "* Trains a Random Forest model to predict coffee_name.\n",
        "\n",
        "* Shows model performance (accuracy, confusion matrix, classification report).\n",
        "\n",
        "* Provides real-time prediction: user inputs purchase details, and the model predicts the outcome.\n",
        "\n"
      ],
      "metadata": {
        "id": "mvFOLEJObgMM"
      }
    },
    {
      "cell_type": "code",
      "source": [
        "# install dependencies\n",
        "!pip install pyngrok streamlit pandas seaborn matplotlib -q"
      ],
      "metadata": {
        "id": "UuJGJTqfag3U"
      },
      "execution_count": 9,
      "outputs": []
    },
    {
      "cell_type": "code",
      "execution_count": 10,
      "metadata": {
        "colab": {
          "base_uri": "https://localhost:8080/"
        },
        "id": "FWexS2FXjiy1",
        "outputId": "d1e6949f-90aa-43b5-e330-b853b07725e5"
      },
      "outputs": [
        {
          "output_type": "stream",
          "name": "stdout",
          "text": [
            "Overwriting app.py\n"
          ]
        }
      ],
      "source": [
        "%%writefile app.py\n",
        "import pandas as pd\n",
        "import streamlit as st\n",
        "import seaborn as sns\n",
        "import matplotlib.pyplot as plt\n",
        "from sklearn.model_selection import train_test_split\n",
        "from sklearn.ensemble import RandomForestClassifier\n",
        "from sklearn.metrics import accuracy_score, confusion_matrix, classification_report\n",
        "from pyngrok import ngrok\n",
        "\n",
        "def load_data():\n",
        "    return pd.read_csv(\"https://raw.githubusercontent.com/hannahbanjo/AssociationOfDataScience/main/Coffee_sales.csv\")\n",
        "\n",
        "df = load_data()\n",
        "\n",
        "st.title(\"☕ Coffee Sales ML Dashboard\")\n",
        "st.write(\"Explore coffee purchase behavior and predict outcomes using ML.\")\n",
        "\n",
        "# -------------------\n",
        "# Data Exploration\n",
        "# -------------------\n",
        "st.header(\"1. Data Overview\")\n",
        "st.write(df.head())\n",
        "\n",
        "col1, col2 = st.columns(2)\n",
        "with col1:\n",
        "    st.metric(\"Total Transactions\", len(df))\n",
        "with col2:\n",
        "    st.metric(\"Unique Coffees\", df[\"coffee_name\"].nunique())\n",
        "\n",
        "st.subheader(\"Feature Distributions\")\n",
        "feature = st.selectbox(\"Choose a feature\", df.columns)\n",
        "fig, ax = plt.subplots()\n",
        "sns.countplot(data=df, x=feature, ax=ax)\n",
        "plt.xticks(rotation=45)\n",
        "st.pyplot(fig)\n",
        "\n",
        "# -------------------\n",
        "# Model Training\n",
        "# -------------------\n",
        "st.header(\"2. Machine Learning Model\")\n",
        "\n",
        "target = st.selectbox(\"Select target column to predict\", [\"coffee_name\"])\n",
        "# Factorize and keep the mapping\n",
        "y, label_names = pd.factorize(df[target])\n",
        "\n",
        "X = pd.get_dummies(df.drop(columns=[target]), drop_first=True)\n",
        "\n",
        "X_train, X_test, y_train, y_test = train_test_split(X, y, test_size=0.2, random_state=42)\n",
        "\n",
        "model = RandomForestClassifier(random_state=42)\n",
        "model.fit(X_train, y_train)\n",
        "y_pred = model.predict(X_test)\n",
        "\n",
        "acc = accuracy_score(y_test, y_pred)\n",
        "st.success(f\"Model Accuracy: {acc:.2f}\")\n",
        "\n",
        "# Confusion Matrix with labels\n",
        "st.subheader(\"Confusion Matrix\")\n",
        "cm = confusion_matrix(y_test, y_pred)\n",
        "fig, ax = plt.subplots()\n",
        "sns.heatmap(cm, annot=True, fmt=\"d\", cmap=\"Blues\", ax=ax,\n",
        "            xticklabels=label_names, yticklabels=label_names)\n",
        "st.pyplot(fig)\n",
        "\n",
        "# Classification Report with names\n",
        "st.text(\"Classification Report\")\n",
        "st.text(classification_report(y_test, y_pred, target_names=label_names))\n",
        "\n",
        "# -------------------\n",
        "# Real-Time Prediction\n",
        "# -------------------\n",
        "st.header(\"3. Try Real-Time Prediction\")\n",
        "\n",
        "hour_of_day = st.slider(\"Hour of purchase\", 0, 23, 9)\n",
        "money = st.number_input(\"Transaction Amount\", min_value=1, max_value=50, value=5)\n",
        "coffee_name = st.selectbox(\"Coffee Type\", df[\"coffee_name\"].unique())\n",
        "time_of_day = st.selectbox(\"Time of Day\", df[\"Time_of_Day\"].unique())\n",
        "weekday = st.selectbox(\"Weekday\", df[\"Weekday\"].unique())\n",
        "month_name = st.selectbox(\"Month\", df[\"Month_name\"].unique())\n",
        "\n",
        "input_data = pd.DataFrame(\n",
        "    {\n",
        "        \"hour_of_day\": [hour_of_day],\n",
        "        \"money\": [money],\n",
        "        \"coffee_name\": [coffee_name],\n",
        "        \"Time_of_Day\": [time_of_day],\n",
        "        \"Weekday\": [weekday],\n",
        "        \"Month_name\": [month_name],\n",
        "    }\n",
        ")\n",
        "\n",
        "input_encoded = pd.get_dummies(input_data)\n",
        "X_input = input_encoded.reindex(columns=X.columns, fill_value=0)\n",
        "\n",
        "prediction = model.predict(X_input)[0]\n",
        "\n",
        "st.subheader(\"Prediction Result\")\n",
        "st.write(f\"🎯 The model predicts: **{prediction}**\")\n"
      ]
    },
    {
      "cell_type": "markdown",
      "source": [
        "Run Streamlit"
      ],
      "metadata": {
        "id": "UF9wFmXpqE4A"
      }
    },
    {
      "cell_type": "code",
      "source": [
        "!streamlit run app.py --server.port=8501 --server.address=0.0.0.0 &>/dev/null &"
      ],
      "metadata": {
        "id": "mHKbkKoAaU4Y"
      },
      "execution_count": 11,
      "outputs": []
    },
    {
      "cell_type": "markdown",
      "source": [
        "Start NGrok Tunnel"
      ],
      "metadata": {
        "id": "yA_KIQCwqUl9"
      }
    },
    {
      "cell_type": "markdown",
      "source": [
        "**Getting ngrok token**\n",
        "1. Go to https://ngrok.com/ and create an account\n",
        "2. Once you have your account, go to the menu on the left side of the screen\n",
        "3. Find the \"Getting Started\" section, and under that click \"Your Authtoken\"\n",
        "4. Copy the token and paste it below where it says \"PASTE_YOUR_AUTHTOKEN\""
      ],
      "metadata": {
        "id": "uaXzfeJ8nRZ7"
      }
    },
    {
      "cell_type": "code",
      "source": [
        "from pyngrok import ngrok\n",
        "# used to allow us to create a tunnel to display our dashboard\n",
        "ngrok.set_auth_token(\"PASTE_YOUR_AUTHTOKEN\")\n",
        "\n",
        "public_url = ngrok.connect(8501)\n",
        "print(\"✅ Streamlit app is live at:\", public_url)"
      ],
      "metadata": {
        "colab": {
          "base_uri": "https://localhost:8080/"
        },
        "id": "Q9PtasiIaabW",
        "outputId": "0565570b-8ef9-4c23-8f51-b48f82e10c1b"
      },
      "execution_count": 12,
      "outputs": [
        {
          "output_type": "stream",
          "name": "stdout",
          "text": [
            "✅ Streamlit app is live at: NgrokTunnel: \"https://d1a6a240ae32.ngrok-free.app\" -> \"http://localhost:8501\"\n"
          ]
        }
      ]
    }
  ]
}